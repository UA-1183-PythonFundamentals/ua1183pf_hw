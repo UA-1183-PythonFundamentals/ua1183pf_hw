{
  "cells": [
    {
      "cell_type": "markdown",
      "metadata": {
        "id": "k8tBRXBoR_4J"
      },
      "source": [
        "# Pre conditions"
      ]
    },
    {
      "cell_type": "markdown",
      "metadata": {
        "id": "VL-H2KG6SFbH"
      },
      "source": [
        "To start you should clone some files from repository"
      ]
    },
    {
      "cell_type": "code",
      "execution_count": null,
      "metadata": {
        "colab": {
          "base_uri": "https://localhost:8080/"
        },
        "id": "uU0yf83rSDnX",
        "outputId": "b391c0c4-6c32-4b4c-d9b4-eb5d1e9a6d3a"
      },
      "outputs": [
        {
          "name": "stdout",
          "output_type": "stream",
          "text": [
            "Cloning into 'pandas_numpy_guide'...\n",
            "remote: Enumerating objects: 43, done.\u001b[K\n",
            "remote: Counting objects: 100% (43/43), done.\u001b[K\n",
            "remote: Compressing objects: 100% (34/34), done.\u001b[K\n",
            "remote: Total 43 (delta 14), reused 19 (delta 5), pack-reused 0\u001b[K\n",
            "Receiving objects: 100% (43/43), 40.09 KiB | 483.00 KiB/s, done.\n",
            "Resolving deltas: 100% (14/14), done.\n"
          ]
        }
      ],
      "source": [
        "!git clone https://github.com/ISierov/pandas_numpy_guide.git\n",
        "\n",
        "from pandas_numpy_guide.checker import check_answer"
      ]
    },
    {
      "cell_type": "markdown",
      "metadata": {
        "id": "kmAJBuxLRLCw"
      },
      "source": [
        "#Task Pandas working with data"
      ]
    },
    {
      "cell_type": "markdown",
      "metadata": {
        "id": "HLOhL5stQ0lh"
      },
      "source": [
        "You have been given a CSV file containing information about customer orders from an e-commerce website. You need to clean and process the data using pandas to answer the following questions:\n",
        "\n",
        "\n",
        "\n",
        "1.   How many unique customers made orders?\n",
        "2.   What was the total revenue from all orders?\n",
        "3.   What was the average order value?"
      ]
    },
    {
      "cell_type": "markdown",
      "metadata": {
        "id": "zo1YMO1pRHuO"
      },
      "source": [
        "To solve this task, you can follow these steps:"
      ]
    },
    {
      "cell_type": "markdown",
      "metadata": {
        "id": "8fwRcs4sRSKG"
      },
      "source": [
        "Step 1: Import the required libraries\n",
        "We will be using pandas for this task, so we need to import them first. You can use the following code:"
      ]
    },
    {
      "cell_type": "code",
      "execution_count": null,
      "metadata": {
        "id": "jtKc2o3tTARk"
      },
      "outputs": [],
      "source": [
        "import pandas as pd"
      ]
    },
    {
      "cell_type": "markdown",
      "metadata": {
        "id": "7euoPG5DTB82"
      },
      "source": [
        "Step 2: Load the data\n",
        "\n",
        "Next, we need to load the CSV file into a pandas dataframe. You can use the <code>read_csv()</code> function to do this. Make sure that the file is located in the same directory as your Python script."
      ]
    },
    {
      "cell_type": "code",
      "execution_count": null,
      "metadata": {
        "id": "p4agz9lzTKNl"
      },
      "outputs": [],
      "source": [
        "data = pd.read_csv('/content/pandas_numpy_guide/orders.csv')"
      ]
    },
    {
      "cell_type": "markdown",
      "metadata": {
        "id": "VNSkEq_ETLrF"
      },
      "source": [
        "Step 3: Clean the data\n",
        "\n",
        "Before we can analyze the data, we need to clean it first. We can start by checking if there are any missing values in the dataframe. You can use the <code>isnull()</code> function to do this. If there are any missing values, you can either drop the rows or fill them with appropriate values. For this task, we will drop the rows with missing values."
      ]
    },
    {
      "cell_type": "code",
      "execution_count": null,
      "metadata": {
        "id": "T3IuCvCnTPeM"
      },
      "outputs": [],
      "source": [
        "data.dropna(inplace=True)"
      ]
    },
    {
      "cell_type": "markdown",
      "metadata": {
        "id": "dpr94tqlTS1F"
      },
      "source": [
        "Step 4: Analyze the data\n",
        "\n",
        "Now that we have cleaned the data, we can start analyzing it. To answer the first question, we need to count the number of unique customers in the dataframe. We can use the <code>nunique()</code> function for this."
      ]
    },
    {
      "cell_type": "code",
      "execution_count": null,
      "metadata": {
        "id": "BtdFeZzkTY5c"
      },
      "outputs": [],
      "source": [
        "unique_customers = data['CustomerID'].nunique()\n",
        "print('Number of unique customers:', unique_customers)"
      ]
    },
    {
      "cell_type": "markdown",
      "metadata": {
        "id": "0iNAXqYqTXkU"
      },
      "source": [
        "To answer the second question, we need to calculate the total revenue from all orders. We can do this by multiplying the Quantity and UnitPrice columns and then summing up the values."
      ]
    },
    {
      "cell_type": "code",
      "execution_count": null,
      "metadata": {
        "id": "ug5Oi7hmTdHk"
      },
      "outputs": [],
      "source": [
        "data['Total'] = data['Quantity'] * data['UnitPrice']\n",
        "total_revenue = data['Total'].sum()\n",
        "print('Total revenue:', total_revenue)"
      ]
    },
    {
      "cell_type": "markdown",
      "metadata": {
        "id": "Xey1HpWeTg3F"
      },
      "source": [
        "To answer the third question, we need to calculate the average order value. We can do this by dividing the total revenue by the number of orders."
      ]
    },
    {
      "cell_type": "code",
      "execution_count": null,
      "metadata": {
        "id": "JC8r_OqVTigg"
      },
      "outputs": [],
      "source": [
        "num_orders = data['InvoiceNo'].nunique()\n",
        "avg_order_value = total_revenue / num_orders\n",
        "print('Average order value:', avg_order_value)"
      ]
    },
    {
      "cell_type": "markdown",
      "metadata": {
        "id": "4Z6Uq67yTlZl"
      },
      "source": [
        "Step 5: Export the results\n",
        "\n",
        "Finally, we can export the results to a CSV file. You can use the <code>to_csv()</code> function for this."
      ]
    },
    {
      "cell_type": "code",
      "execution_count": null,
      "metadata": {
        "id": "bnmwd0lLToRl"
      },
      "outputs": [],
      "source": [
        "results = pd.DataFrame({'Number of unique customers': [unique_customers], 'Total revenue': [total_revenue], 'Average order value': [avg_order_value]})\n",
        "results.to_csv('results1.csv', index=False)\n",
        "print(results)"
      ]
    },
    {
      "cell_type": "markdown",
      "metadata": {
        "id": "8lwzDANmRazm"
      },
      "source": [
        "#Task Pandas working with data advanced"
      ]
    },
    {
      "cell_type": "markdown",
      "metadata": {
        "id": "3DSaIkygVH_8"
      },
      "source": [
        "You have been given a dataset containing information about the sales of a retail store. Your task is to clean and process the data using pandas to answer the following questions:\n",
        "\n",
        "1. Which product category had the highest sales revenue?\n",
        "2. What was the average rating for products in each category?\n",
        "3. What was the total profit for each region?"
      ]
    },
    {
      "cell_type": "markdown",
      "metadata": {
        "id": "fzrvz3PIVOq0"
      },
      "source": [
        "\n",
        "To solve this task, you can follow these steps:"
      ]
    },
    {
      "cell_type": "markdown",
      "metadata": {
        "id": "LpibN83gVPUM"
      },
      "source": [
        "Step 1: Import the required library\n",
        "\n",
        "We imported it before so it step is need not\n"
      ]
    },
    {
      "cell_type": "code",
      "execution_count": null,
      "metadata": {
        "id": "vtsAIR8cRqge"
      },
      "outputs": [],
      "source": [
        "import pandas as pd"
      ]
    },
    {
      "cell_type": "markdown",
      "metadata": {
        "id": "t6DpdHFsVqtD"
      },
      "source": [
        "Step 2: Load the data"
      ]
    },
    {
      "cell_type": "code",
      "execution_count": null,
      "metadata": {
        "id": "XBnWqg91VqRz"
      },
      "outputs": [],
      "source": [
        "data = pd.read_csv('/content/pandas_numpy_guide/sales.csv')"
      ]
    },
    {
      "cell_type": "markdown",
      "metadata": {
        "id": "2loCWx_ZV1JU"
      },
      "source": [
        "Step 3: Clean the data"
      ]
    },
    {
      "cell_type": "code",
      "execution_count": null,
      "metadata": {
        "id": "hx1e00VPWDbL"
      },
      "outputs": [],
      "source": [
        "data.dropna(inplace=True)"
      ]
    },
    {
      "cell_type": "markdown",
      "metadata": {
        "id": "ID3Lzix9WE1C"
      },
      "source": [
        "Step 4: Analyze the data\n",
        "\n",
        "Now that we have cleaned the data, we can start analyzing it. To answer the first question, we need to calculate the sales revenue for each product category and then find the category with the highest revenue. We can do this by multiplying the *Quantity* and *UnitPrice* columns to get the sales revenue, and then grouping the data by *Category*."
      ]
    },
    {
      "cell_type": "code",
      "execution_count": null,
      "metadata": {
        "id": "lcpSlgcPWMWk"
      },
      "outputs": [],
      "source": [
        "data['SalesRevenue'] = data['Quantity'] * data['UnitPrice']\n",
        "sales_by_category = data.groupby('Category')['SalesRevenue'].sum()\n",
        "highest_revenue_category = sales_by_category.idxmax()\n",
        "print('Category with highest sales revenue:', highest_revenue_category)"
      ]
    },
    {
      "cell_type": "markdown",
      "metadata": {
        "id": "L1U7MbCcWPJU"
      },
      "source": [
        "To answer the second question, we need to calculate the average rating for products in each category. We can do this by grouping the data by *Category* and then calculating the mean of the *Rating* column."
      ]
    },
    {
      "cell_type": "code",
      "execution_count": null,
      "metadata": {
        "id": "_vDRBV20WTrb"
      },
      "outputs": [],
      "source": [
        "avg_rating_by_category = data.groupby('Category')['Rating'].mean()\n",
        "print('Average rating by category:\\n', avg_rating_by_category)"
      ]
    },
    {
      "cell_type": "markdown",
      "metadata": {
        "id": "8UxVWn_HWVR7"
      },
      "source": [
        "To answer the third question, we need to calculate the total profit for each region. We can do this by multiplying the *Quantity* and *UnitCost* columns to get the total cost, and then subtracting the total cost from the sales revenue. We can then group the data by *Region* and calculate the sum of the profit."
      ]
    },
    {
      "cell_type": "code",
      "execution_count": null,
      "metadata": {
        "id": "FSbt4p00Wata"
      },
      "outputs": [],
      "source": [
        "data['TotalCost'] = data['Quantity'] * data['UnitCost']\n",
        "data['Profit'] = data['SalesRevenue'] - data['TotalCost']\n",
        "profit_by_region = data.groupby('Region')['Profit'].sum()\n",
        "print('Total profit by region:\\n', profit_by_region)"
      ]
    },
    {
      "cell_type": "markdown",
      "metadata": {
        "id": "hu4SrNNvWd7j"
      },
      "source": [
        "Step 5: Export the results"
      ]
    },
    {
      "cell_type": "code",
      "execution_count": null,
      "metadata": {
        "id": "KyZGEuR0Wehi"
      },
      "outputs": [],
      "source": [
        "results = pd.DataFrame({'Category with highest sales revenue': [highest_revenue_category]})\n",
        "results.to_csv('results2.csv', index=False)\n",
        "print(results)"
      ]
    },
    {
      "cell_type": "markdown",
      "metadata": {
        "id": "KMDYn7tiZ-va"
      },
      "source": [
        "# Task Numpy arrays\n",
        "\n"
      ]
    },
    {
      "cell_type": "markdown",
      "metadata": {
        "id": "RR26S9JaLMZv"
      },
      "source": [
        "You're already familiar with arrays, but the library supports custom arrays with advanced functionality. Some of the operations are of course similar, but even some may differ significantly."
      ]
    },
    {
      "cell_type": "markdown",
      "metadata": {
        "id": "vZ5Wn_mHaFpA"
      },
      "source": [
        "Creating arrays: You can create arrays of different sizes and dimensions using numpy's *array* function."
      ]
    },
    {
      "cell_type": "code",
      "execution_count": null,
      "metadata": {
        "id": "7n__POJIaJ74"
      },
      "outputs": [],
      "source": [
        "import numpy as np\n",
        "\n",
        "# Create a 1-dimensional array\n",
        "a = np.array([1, 2, 3, 4, 5])\n",
        "print(a)\n",
        "\n",
        "# Create a 2-dimensional array\n",
        "b = np.array([[1, 2, 3], [4, 5, 6], [7, 8, 9]])\n",
        "print(b)"
      ]
    },
    {
      "cell_type": "markdown",
      "metadata": {
        "id": "jz3y-hIsaQQJ"
      },
      "source": [
        "Array indexing and slicing: You can index and slice arrays to access specific elements or subsets of an array."
      ]
    },
    {
      "cell_type": "code",
      "execution_count": null,
      "metadata": {
        "id": "tAJ21UqoaWFC"
      },
      "outputs": [],
      "source": [
        "import numpy as np\n",
        "\n",
        "# Create a 1-dimensional array\n",
        "a = np.array([1, 2, 3, 4, 5])\n",
        "\n",
        "# Access the first element of the array\n",
        "print(a[0])\n",
        "# Access a slice of the array\n",
        "print(a[1:4])"
      ]
    },
    {
      "cell_type": "markdown",
      "metadata": {
        "id": "wxe3J-qPaX2R"
      },
      "source": [
        "Array operations: You can perform mathematical operations on arrays, such as addition, subtraction, multiplication, division, and more.\n",
        "\n"
      ]
    },
    {
      "cell_type": "code",
      "execution_count": null,
      "metadata": {
        "id": "ZyXPIm8aaZVA"
      },
      "outputs": [],
      "source": [
        "import numpy as np\n",
        "\n",
        "# Classic arrays\n",
        "a = [1, 2, 3, 4, 5]\n",
        "b = [5, 4, 3, 2, 1]\n",
        "\n",
        "# Their sum\n",
        "c = a + b\n",
        "print('Classic arrays:', c)\n",
        "\n",
        "# Arrays in NumPy\n",
        "a = np.array([1, 2, 3, 4, 5])\n",
        "b = np.array([5, 4, 3, 2, 1])\n",
        "\n",
        "# Add the two arrays\n",
        "c = a + b\n",
        "print('Numpy arrays sum:', c)\n",
        "\n",
        "# Multiply the two arrays\n",
        "d = a * b\n",
        "print('Numpy arrays multiply:', d)"
      ]
    },
    {
      "cell_type": "markdown",
      "metadata": {
        "id": "2_orx7LKagSh"
      },
      "source": [
        "Array broadcasting: You can use broadcasting to perform operations on arrays of different shapes and sizes."
      ]
    },
    {
      "cell_type": "code",
      "execution_count": null,
      "metadata": {
        "id": "vXJfndv8ahmq"
      },
      "outputs": [],
      "source": [
        "import numpy as np\n",
        "\n",
        "a = np.array([[1, 2], [3, 4]])\n",
        "b = np.array([10, 20])\n",
        "\n",
        "# Multiply the two arrays\n",
        "c = a * b[:, np.newaxis]\n",
        "print(c)\n"
      ]
    },
    {
      "cell_type": "markdown",
      "metadata": {
        "id": "M1PqPyVPalCh"
      },
      "source": [
        "Array reshaping: You can reshape arrays to change their dimensions and sizes."
      ]
    },
    {
      "cell_type": "code",
      "execution_count": null,
      "metadata": {
        "id": "L_10aoz2amLb"
      },
      "outputs": [],
      "source": [
        "import numpy as np\n",
        "\n",
        "a = np.array([1, 2, 3, 4, 5, 6, 7, 8])\n",
        "\n",
        "# Reshape the array to a 2-dimensional array\n",
        "b = a.reshape(2, 4)\n",
        "print(b)"
      ]
    },
    {
      "cell_type": "markdown",
      "metadata": {
        "id": "_cSwN1E6RrzW"
      },
      "source": [
        "#Task NumPy basic statistics"
      ]
    },
    {
      "cell_type": "markdown",
      "metadata": {
        "id": "cQevP-m_W48z"
      },
      "source": [
        "Write a program that takes a list of numbers as input and computes the mean, median, and standard deviation using the numpy library."
      ]
    },
    {
      "cell_type": "markdown",
      "metadata": {
        "id": "97KzktYJW-dD"
      },
      "source": [
        "Step 1: Import numpy"
      ]
    },
    {
      "cell_type": "code",
      "execution_count": null,
      "metadata": {
        "id": "uPfaLKGMXCRD"
      },
      "outputs": [],
      "source": [
        "import numpy as np"
      ]
    },
    {
      "cell_type": "markdown",
      "metadata": {
        "id": "JWhewsbKXGjS"
      },
      "source": [
        "Step 2: Create a list of numbers"
      ]
    },
    {
      "cell_type": "code",
      "execution_count": null,
      "metadata": {
        "id": "T15SvMh9XOYC"
      },
      "outputs": [],
      "source": [
        "numbers = [5, 10, 15, 20, 25, 30, 35, 40, 45, 50]"
      ]
    },
    {
      "cell_type": "markdown",
      "metadata": {
        "id": "BqrMT8JEXPki"
      },
      "source": [
        "Step 3: Calculate the mean\n",
        "\n",
        "To calculate the *mean* of the list of numbers, you can use the mean function from the numpy library. The *mean* function takes an array-like object as its argument and returns the mean of the elements in the array."
      ]
    },
    {
      "cell_type": "code",
      "execution_count": null,
      "metadata": {
        "id": "BNhRN9sIXZQT"
      },
      "outputs": [],
      "source": [
        "mean = np.mean(numbers)\n",
        "print(\"Mean:\", mean)"
      ]
    },
    {
      "cell_type": "markdown",
      "metadata": {
        "id": "ekx8PwJOXhYC"
      },
      "source": [
        "Step 4: Calculate the median\n",
        "\n",
        "To calculate the median of the list of numbers, you can use the *median* function from the numpy library. The *median* function takes an array-like object as its argument and returns the median of the elements in the array."
      ]
    },
    {
      "cell_type": "code",
      "execution_count": null,
      "metadata": {
        "id": "0e1lh50-Xw3q"
      },
      "outputs": [],
      "source": [
        "median = np.median(numbers)\n",
        "print(\"Median:\", median)"
      ]
    },
    {
      "cell_type": "markdown",
      "metadata": {
        "id": "77Z-xVgpXziK"
      },
      "source": [
        "Step 5: Calculate the standard deviation\n",
        "\n",
        "To calculate the standard deviation of the list of numbers, you can use the *std* function from the numpy library. The *std* function takes an array-like object as its argument and returns the standard deviation of the elements in the array."
      ]
    },
    {
      "cell_type": "code",
      "execution_count": null,
      "metadata": {
        "id": "Pef0Q7MOX6_b"
      },
      "outputs": [],
      "source": [
        "std_dev = np.std(numbers)\n",
        "print(\"Standard Deviation:\", std_dev)"
      ]
    },
    {
      "cell_type": "markdown",
      "metadata": {
        "id": "z16X43oqYVbb"
      },
      "source": [
        "#Task NumPy Gaussian"
      ]
    },
    {
      "cell_type": "markdown",
      "metadata": {
        "id": "6A9w5dWPIelO"
      },
      "source": [
        "A classic problem from the school curriculum about solving a system of equations:\n",
        "\n",
        "- x + 2y = 3\n",
        "- 2x - 6y = 12\n",
        "\n",
        "Once upon a time, to solve it, you either added parts to get rid of one unknown, or expressed the unknown terms through each other. But when there are too many unknowns, problems arise with this approach. That is why we are considering a method for solving such systems with a large number of unknowns: Gaussian elimination method."
      ]
    },
    {
      "cell_type": "markdown",
      "metadata": {
        "id": "wMS0i646YoZD"
      },
      "source": [
        "Write a program that solves a system of linear equations using Gaussian elimination method with numpy library."
      ]
    },
    {
      "cell_type": "markdown",
      "metadata": {
        "id": "IOLy6v3RYxcb"
      },
      "source": [
        "Step 1: Import numpy library\n",
        "\n",
        "We imported it before so it step is need not"
      ]
    },
    {
      "cell_type": "code",
      "execution_count": null,
      "metadata": {
        "id": "NIxg0fEQYdTp"
      },
      "outputs": [],
      "source": [
        "import numpy as np"
      ]
    },
    {
      "cell_type": "markdown",
      "metadata": {
        "id": "n_Wq7PzYZCSZ"
      },
      "source": [
        "Step 2: Define the system of linear equations\n",
        "\n",
        "In this task, we will define a system of linear equations to demonstrate the functionality of Gaussian elimination method with numpy. You can define a system of linear equations as a numpy array."
      ]
    },
    {
      "cell_type": "code",
      "execution_count": null,
      "metadata": {
        "id": "457oruVSZH0h"
      },
      "outputs": [],
      "source": [
        "A = np.array([[2, 3, -1], [4, 4, -3], [2, -3, 1]])\n",
        "B = np.array([[7], [5], [-1]])"
      ]
    },
    {
      "cell_type": "markdown",
      "metadata": {
        "id": "7VQGHm9aZL06"
      },
      "source": [
        "This will define the system of linear equations as follows:\n",
        "- 2x + 3y - z = 7\n",
        "- 4x + 4y - 3z = 5\n",
        "- 2x - 3y + z = -1"
      ]
    },
    {
      "cell_type": "markdown",
      "metadata": {
        "id": "fVZGC6PWZRzS"
      },
      "source": [
        "Step 3: Solve the system of linear equations using Gaussian elimination\n",
        "\n",
        "To solve the system of linear equations using Gaussian elimination, you can use the *linalg.solve* function from the numpy library. The *linalg.solve* function takes a matrix of coefficients and a matrix of constants as its arguments and returns the solution to the system of linear equations."
      ]
    },
    {
      "cell_type": "code",
      "execution_count": null,
      "metadata": {
        "id": "zEHc_q2PZdCn"
      },
      "outputs": [],
      "source": [
        "x = np.linalg.solve(A, B)"
      ]
    },
    {
      "cell_type": "markdown",
      "metadata": {
        "id": "vrqpqgOZZgKS"
      },
      "source": [
        "Step 4: Print the result"
      ]
    },
    {
      "cell_type": "code",
      "execution_count": null,
      "metadata": {
        "colab": {
          "base_uri": "https://localhost:8080/"
        },
        "id": "wTZbXIdSZmAj",
        "outputId": "481b9e94-b7de-43a7-f969-ce6bd78b1626"
      },
      "outputs": [
        {
          "name": "stdout",
          "output_type": "stream",
          "text": [
            "[[1.5]\n",
            " [2.6]\n",
            " [3.8]]\n"
          ]
        }
      ],
      "source": [
        "print(x)"
      ]
    },
    {
      "cell_type": "markdown",
      "metadata": {
        "id": "jhgA1rcjFhQE"
      },
      "source": [
        "# Your turn!"
      ]
    },
    {
      "cell_type": "markdown",
      "metadata": {
        "id": "yroqeR1gH2e1"
      },
      "source": [
        "You alredy have ***data.csv*** file with some information:\n",
        "\n",
        "- IP\n",
        "- Number of bytes\n",
        "- Country\n",
        "- Username\n",
        "\n",
        "> ***Dont change records or fields names in file!***"
      ]
    },
    {
      "cell_type": "markdown",
      "metadata": {
        "id": "_SbekxGnl4Ru"
      },
      "source": [
        "Your task is to find\n",
        "\n",
        "- the total number of bytes used\n",
        "\n",
        "- the average number of bytes per request\n",
        "\n",
        "- the most popular country (by the number of requests)\n",
        "\n",
        "- the user who is on the 3rd place by the number of bytes\n",
        "\n",
        "- the number of bytes used by users from Ukraine\n",
        "\n",
        "- number of unique users\n",
        "\n",
        "- the difference between the average number of bytes per request between users from Ukraine and the UK (rounded to the nearest whole number)\n",
        "\n",
        "- average number of bytes per IP address\n",
        "\n",
        "- total number of users from Europe (UK, France, Germany, Poland and Ukraine)"
      ]
    },
    {
      "cell_type": "code",
      "execution_count": null,
      "metadata": {
        "id": "PdvTVGOkN3ci"
      },
      "outputs": [],
      "source": [
        "import pandas as pd\n",
        "\n",
        "# Read the CSV file\n",
        "df = pd.read_csv('pandas_numpy_guide/data.csv')\n",
        "\n",
        "# Write your code here"
      ]
    },
    {
      "cell_type": "code",
      "execution_count": null,
      "metadata": {
        "colab": {
          "background_save": true,
          "base_uri": "https://localhost:8080/"
        },
        "id": "pd_IZQQ_ucJ-",
        "outputId": "f52bce53-a43f-4464-dcdb-370ca4c2fbb2"
      },
      "outputs": [
        {
          "name": "stdout",
          "output_type": "stream",
          "text": [
            "Incorrect\n"
          ]
        }
      ],
      "source": [
        "# Check your answers\n",
        "check_answer()"
      ]
    }
  ],
  "metadata": {
    "colab": {
      "provenance": []
    },
    "kernelspec": {
      "display_name": "Python 3",
      "name": "python3"
    },
    "language_info": {
      "name": "python"
    }
  },
  "nbformat": 4,
  "nbformat_minor": 0
}